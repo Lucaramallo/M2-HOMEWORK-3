{
 "cells": [
  {
   "attachments": {},
   "cell_type": "markdown",
   "metadata": {},
   "source": [
    "\n",
    "## Homework\n",
    "\n",
    "1. Suponga dos eventos, A y B, y que P(A) = 0.50, P(B) = 0.60 y P(A ∩ B) = 0.40.<br>\n",
    "- a. Halle P(A | B).\n",
    "- b. Halle P(B | A).\n",
    "- c. ¿A y B son independientes? ¿Por qué sí o por qué no?\n",
    "\n",
    "2. Suponga dos eventos, A y B, que son mutuamente excluyentes. Admita, además, que P(A) = 0.30 y P(B) = 0.40.<br>\n",
    "- a. Obtenga P(A ∩ B). ¿Existe intersección entre los dos conjuntos?.\n",
    "- b. Calcule P(A | B).\n",
    "- c. Un estudiante de estadística argumenta que los conceptos de eventos mutuamente excluyentes y eventos independientes son en realidad lo mismo y que si los eventos son mutuamente excluyentes deben ser también independientes. ¿Está usted de acuerdo? Use la información sobre las probabilidades para justificar su respuesta.\n",
    "\n",
    "Dada la siguiente tabla:<br>\n",
    "![Sucesos](../_src/assets/sucesos.PNG)<br>\n",
    "\n",
    "3. Si en la concesionaria se seleccionan dos ventas con reposición (Los sucesos son independientes.). Hallar la probabilidad de que las ventas sean:<br>\n",
    " \n",
    "  - a. La primera de un comprador de “menos de 40 años” y la segunda de uno de \"entre 40 y 50 años\". \n",
    "  \n",
    "  - b. las dos sean de autos \"nacionales\".\n",
    "\n",
    "4. Si la selección de las dos ventas se realiza sin reposición. Hallar la probabilidad de que las ventas sean:<br>\n",
    "  Los sucesos son condicionales.\n",
    "\n",
    " - a. la primera de un comprador de “menos de 40 años” y la segunda de uno de \"entre 40 y 50 años\".\n",
    "\n",
    " - b. las dos sean de autos \"nacionales\".\n",
    "\n",
    "5. Si la selección de las dos ventas se realiza sin reposición. Hallar la probabilidad de que las ventas sean:<br>\n",
    "  Los sucesos son condicionales.\n",
    "  \n",
    " - a. De un comprador de “menos de 40 años” y de uno de \"entre 40 y 50 años\". Sin importar el orden.\n",
    "\n",
    " 6. Debido al aumento de los costos de los seguros, en un país 43 millones de personas, hay personas que no cuentan con un seguro médico. En la tabla siguiente se muestran datos muestrales representativos de la cantidad de personas que cuentan con seguro médico:<br>\n",
    " ![Seguro](../_src/assets/seguro.PNG)\n",
    "\n",
    "- a. Con estos datos elabore una tabla de probabilidad conjunta y úsela para responder las preguntas restantes.\n",
    "- b. ¿Qué indican las probabilidades marginales acerca de la edad de la población?\n",
    "- c. ¿Cuál es la probabilidad de que una persona tomada en forma aleatoria no tenga seguro médico?\n",
    "- d. Si la persona tiene entre 18 y 34 años, ¿cuál es la probabilidad de que no tenga seguro médico?\n",
    "- e. Si la persona tiene 35 años o más ¿cuál es la probabilidad de que no tenga seguro médico?\n",
    "- f. Si la persona no tiene seguro médico, ¿cuál es la probabilidad de que tenga entre 18 y 34 años?\n",
    "\n",
    "#### Puedes complementar con los ejercicios del 33 al 40 del Capitula 4 del libro \"ESTADÍSTICA PARA ADMINISTRACIÓN Y ECONOMÍA\"\n"
   ]
  },
  {
   "cell_type": "code",
   "execution_count": 13,
   "metadata": {},
   "outputs": [
    {
     "name": "stdout",
     "output_type": "stream",
     "text": [
      "0.6666666666666667\n",
      "0.8\n",
      "0.3\n"
     ]
    }
   ],
   "source": [
    "# 1. Suponga dos eventos, A y B, y que P(A) = 0.50, P(B) = 0.60 y P(A ∩ B) = 0.40.<br>\n",
    "# - a. Halle P(A | B).\n",
    "print(0.4 / 0.6)\n",
    "\n",
    "# - b. Halle P(B | A).\n",
    "print(0.4 /  0.5)\n",
    "\n",
    "# - c. ¿A y B son independientes? ¿Por qué sí o por qué no? \n",
    "# - No son independientes, por estar condicionados el uno con el otro\n",
    "\n",
    "#P(AyB) = P(A) *  P(B)\n",
    "print(0.5 * 0.6)\n",
    "#No son independientes"
   ]
  },
  {
   "cell_type": "code",
   "execution_count": 14,
   "metadata": {},
   "outputs": [],
   "source": [
    "# 2. Suponga dos eventos, A y B, que son mutuamente excluyentes. \n",
    "# Admita, además, que P(A) = 0.30 y P(B) = 0.40.<br>\n",
    "\n",
    "# - a. Obtenga P(A ∩ B). ¿Existe intersección entre los dos conjuntos?.\n",
    "\n",
    "# P(A ∩ B) = 0\n",
    "\n",
    "# - b. Calcule P(A | B).\n",
    "\n",
    "# P(A | B) = P(A) + P(A ∩ B) = 0.3 + 0 = 0.3\n",
    "\n",
    "# - c. Un estudiante de estadística argumenta que los conceptos\n",
    "#  de eventos mutuamente excluyentes y eventos independientes\n",
    "#  son en realidad lo mismo y que si los eventos son mutuamente\n",
    "#  excluyentes deben ser también independientes. \n",
    "\n",
    "# ¿Está usted de acuerdo? Use la información sobre las probabilidades\n",
    "#  para justificar su respuesta.\n",
    "\n",
    "\n",
    "# Se equivoca, porque no son lo mismo \n",
    "# \n",
    "# son Excluyentes: si pasa uno el otro no\n",
    "# \n",
    "# son Independientes: Se dice que dos eventos A y B son independientes si y solo si \n",
    "# la probabilidad del evento B no está influida por el suceso del evento A o viceversa.\n",
    "#\n",
    "#\n",
    "# En conclucion independientes es distinto de excliyentes, y al ser expluyentes..\n",
    "# la probabilidad de uno si esta ligada a la del otro\n",
    "# dado que siendo a NO puede ser B y vivceversa.\n",
    "# \n",
    "# Ejemplo en clase: que llueva en madrid y que llueva en bsas al otro dia, no son excluyentes y si son independientes. \n"
   ]
  },
  {
   "attachments": {},
   "cell_type": "markdown",
   "metadata": {},
   "source": [
    "Dada la siguiente tabla:<br>\n",
    "![Sucesos](../_src/assets/sucesos.PNG)<br>\n"
   ]
  },
  {
   "cell_type": "code",
   "execution_count": 15,
   "metadata": {},
   "outputs": [
    {
     "name": "stdout",
     "output_type": "stream",
     "text": [
      "0.159375\n",
      "0.390625\n"
     ]
    }
   ],
   "source": [
    "# 3. Si en la concesionaria se seleccionan dos ventas \n",
    "# \n",
    "#  \"con reposición\" \n",
    "#  \n",
    "# (Los sucesos son independientes.).\n",
    "#  Hallar la probabilidad de que las ventas sean:<br>\n",
    " \n",
    "#   - a. La primera de un comprador de “menos de 40 años” y\n",
    "#  la segunda de uno de \"entre 40 y 50 años\". \n",
    "\n",
    "# P(<40 y entre 40 y 50) = p(<40) * p(entre 40 y 50)\n",
    "print((30/80) * (34/80))\n",
    "\n",
    "#   - b. las dos sean de autos \"nacionales\".\n",
    "\n",
    "# P(N y N) = p(N) * p(N) \n",
    "print((50/80) * (50/80))"
   ]
  },
  {
   "cell_type": "code",
   "execution_count": 16,
   "metadata": {},
   "outputs": [
    {
     "name": "stdout",
     "output_type": "stream",
     "text": [
      "0.16139240506329114\n",
      "0.39\n"
     ]
    }
   ],
   "source": [
    "# 4. Si la selección de las dos ventas se realiza \n",
    "# \n",
    "# \"sin reposición\".\n",
    "# \n",
    "# Hallar la probabilidad de que las ventas sean:<br>\n",
    "#   \n",
    "# Los sucesos son condicionales.\n",
    "\n",
    "#  - a. la primera de un comprador de “menos de 40 años” \n",
    "# y la segunda de uno de \"entre 40 y 50 años\".\n",
    "\n",
    "# P(<40 y entre 40 y 50) = p(<40) * p(entre 40 y 50 | <40)\n",
    "print((30/80) * (34/79))\n",
    "\n",
    "#  - b. las dos sean de autos \"nacionales\".\n",
    "\n",
    "# P(N y N) = p(N) * p(N | N) \n",
    "print(round((50/80) * (49/79),2))"
   ]
  },
  {
   "cell_type": "code",
   "execution_count": 17,
   "metadata": {},
   "outputs": [
    {
     "name": "stdout",
     "output_type": "stream",
     "text": [
      "0.3227848101265823\n"
     ]
    }
   ],
   "source": [
    "# 5. Si la selección de las dos ventas se realiza \n",
    "# \n",
    "# sin reposición.\n",
    "# \n",
    "#  Hallar la probabilidad de que las ventas sean:<br>\n",
    "#   \n",
    "# Los sucesos son condicionales.\n",
    "  \n",
    "#  - a. De un comprador de “menos de 40 años”\n",
    "#  y de uno de \"entre 40 y 50 años\". \n",
    "# \"Sin importar el orden\".\n",
    "\n",
    "# al decir sin importar el orden pregunta por ambas probabilidades,\n",
    "#  la de izquierda a derecha y\n",
    "# la de derecha a izquierda.\n",
    "\n",
    "# como no especifica el orden solo interesa que sucedan esas dos de manera continuada ,una desp de la otra,\n",
    "# pero sin importar el orden en que suceden los mismos.\n",
    "\n",
    "# por ello sumamos ambas opciones de probabilidad\n",
    "# estoy tomando dos posibles resultados del espacio muestral.\n",
    "\n",
    "\n",
    "print((30/80) * (34/79) + (34/80) * (30/79))"
   ]
  },
  {
   "attachments": {},
   "cell_type": "markdown",
   "metadata": {},
   "source": [
    " 6. Debido al aumento de los costos de los seguros, en un país 43 millones de personas, hay personas que no cuentan con un seguro médico. En la tabla siguiente se muestran datos muestrales representativos de la cantidad de personas que cuentan con seguro médico:<br>\n",
    " ![Seguro](../_src/assets/seguro.PNG)\n",
    "\n",
    "- a. Con estos datos elabore una tabla de probabilidad conjunta y úsela para responder las preguntas restantes.\n",
    "- b. ¿Qué indican las probabilidades marginales acerca de la edad de la población?\n",
    "- c. ¿Cuál es la probabilidad de que una persona tomada en forma aleatoria no tenga seguro médico?\n",
    "- d. Si la persona tiene entre 18 y 34 años, ¿cuál es la probabilidad de que no tenga seguro médico?\n",
    "- e. Si la persona tiene 35 años o más ¿cuál es la probabilidad de que no tenga seguro médico?\n",
    "- f. Si la persona no tiene seguro médico, ¿cuál es la probabilidad de que tenga entre 18 y 34 años?\n",
    "\n",
    "#### Puedes complementar con los ejercicios del 33 al 40 del Capitula 4 del libro \"ESTADÍSTICA PARA ADMINISTRACIÓN Y ECONOMÍA\""
   ]
  },
  {
   "cell_type": "code",
   "execution_count": 20,
   "metadata": {},
   "outputs": [
    {
     "data": {
      "text/html": [
       "<div>\n",
       "<style scoped>\n",
       "    .dataframe tbody tr th:only-of-type {\n",
       "        vertical-align: middle;\n",
       "    }\n",
       "\n",
       "    .dataframe tbody tr th {\n",
       "        vertical-align: top;\n",
       "    }\n",
       "\n",
       "    .dataframe thead th {\n",
       "        text-align: right;\n",
       "    }\n",
       "</style>\n",
       "<table border=\"1\" class=\"dataframe\">\n",
       "  <thead>\n",
       "    <tr style=\"text-align: right;\">\n",
       "      <th></th>\n",
       "      <th>si</th>\n",
       "      <th>no</th>\n",
       "    </tr>\n",
       "  </thead>\n",
       "  <tbody>\n",
       "    <tr>\n",
       "      <th>18_34</th>\n",
       "      <td>750</td>\n",
       "      <td>170</td>\n",
       "    </tr>\n",
       "    <tr>\n",
       "      <th>35_up</th>\n",
       "      <td>950</td>\n",
       "      <td>130</td>\n",
       "    </tr>\n",
       "  </tbody>\n",
       "</table>\n",
       "</div>"
      ],
      "text/plain": [
       "        si   no\n",
       "18_34  750  170\n",
       "35_up  950  130"
      ]
     },
     "execution_count": 20,
     "metadata": {},
     "output_type": "execute_result"
    }
   ],
   "source": [
    "#desarrollado en clase:\n",
    "\n",
    "# Respuestas correctas:\n",
    "import pandas as pd\n",
    "seg_med = ['18_34','35_up']\n",
    "si = [750,950]\n",
    "no = [170,130]\n",
    "# definidas las listas, creo un dicc\n",
    "\n",
    "dicseg_med = dict(si = si, no = no )\n",
    "df_seg_med= pd.DataFrame(dicseg_med, index= seg_med) \n",
    "\n",
    "df_seg_med\n",
    "# dejo planteado\n"
   ]
  }
 ],
 "metadata": {
  "kernelspec": {
   "display_name": "Python 3",
   "language": "python",
   "name": "python3"
  },
  "language_info": {
   "codemirror_mode": {
    "name": "ipython",
    "version": 3
   },
   "file_extension": ".py",
   "mimetype": "text/x-python",
   "name": "python",
   "nbconvert_exporter": "python",
   "pygments_lexer": "ipython3",
   "version": "3.10.9 (tags/v3.10.9:1dd9be6, Dec  6 2022, 20:01:21) [MSC v.1934 64 bit (AMD64)]"
  },
  "orig_nbformat": 4,
  "vscode": {
   "interpreter": {
    "hash": "957a0973b20c9ca410cb31745b8585db68510eafaadcea06bf68cd1027372551"
   }
  }
 },
 "nbformat": 4,
 "nbformat_minor": 2
}
